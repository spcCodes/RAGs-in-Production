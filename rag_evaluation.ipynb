{
 "cells": [
  {
   "cell_type": "code",
   "execution_count": 1,
   "id": "cc02a4f8-c1c9-42aa-bbec-606f9d5af954",
   "metadata": {},
   "outputs": [],
   "source": [
    "import os\n",
    "os.chdir(\"../\")"
   ]
  },
  {
   "cell_type": "code",
   "execution_count": 2,
   "id": "23358ea5-3f8f-48cb-8ce6-24269a97e06c",
   "metadata": {},
   "outputs": [
    {
     "name": "stdout",
     "output_type": "stream",
     "text": [
      "✅ In Answer Relevance, input prompt will be set to __record__.main_input or `Select.RecordInput` .\n",
      "✅ In Answer Relevance, input response will be set to __record__.main_output or `Select.RecordOutput` .\n",
      "✅ In Context Relevance, input prompt will be set to __record__.main_input or `Select.RecordInput` .\n",
      "✅ In Context Relevance, input response will be set to __record__.app.query.rets.source_nodes[:].node.text .\n",
      "✅ In Groundedness, input source will be set to __record__.app.query.rets.source_nodes[:].node.text .\n",
      "✅ In Groundedness, input statement will be set to __record__.main_output or `Select.RecordOutput` .\n"
     ]
    }
   ],
   "source": [
    "from src.utils import *"
   ]
  },
  {
   "cell_type": "code",
   "execution_count": 3,
   "id": "3a123810-2ad2-469c-a08a-93109a064ed0",
   "metadata": {},
   "outputs": [],
   "source": [
    "import openai"
   ]
  },
  {
   "cell_type": "code",
   "execution_count": 4,
   "id": "cb3a84c4-9f35-4782-822c-9a666a695890",
   "metadata": {},
   "outputs": [],
   "source": [
    "#load the data\n",
    "from llama_index import SimpleDirectoryReader\n",
    "\n",
    "documents = SimpleDirectoryReader(\n",
    "    input_files=[\"data/eBook-How-to-Build-a-Career-in-AI.pdf\"]\n",
    ").load_data()"
   ]
  },
  {
   "cell_type": "code",
   "execution_count": 5,
   "id": "9d3be961-f4d0-4ae3-84d5-fd4a98f2ab67",
   "metadata": {},
   "outputs": [
    {
     "name": "stdout",
     "output_type": "stream",
     "text": [
      "<class 'list'> \n",
      "\n",
      "41 \n",
      "\n",
      "<class 'llama_index.schema.Document'>\n",
      "Doc ID: fb5d5057-046c-45bf-9fc9-2b93689712f3\n",
      "Text: PAGE 1Founder, DeepLearning.AICollected Insights from Andrew Ng\n",
      "How to  Build Your Career in AIA Simple Guide\n"
     ]
    }
   ],
   "source": [
    "# Checking the length of the document\n",
    "\n",
    "print(type(documents), \"\\n\")\n",
    "print(len(documents), \"\\n\")\n",
    "print(type(documents[0]))\n",
    "print(documents[0])"
   ]
  },
  {
   "cell_type": "code",
   "execution_count": 6,
   "id": "ce9172a8-4305-40c5-ba61-302011d7622a",
   "metadata": {},
   "outputs": [],
   "source": [
    "# Building up a RAG pipeline\n",
    "\n",
    "from llama_index import Document\n",
    "\n",
    "document = Document(text=\"\\n\\n\".join([doc.text for doc in documents]))"
   ]
  },
  {
   "cell_type": "code",
   "execution_count": 7,
   "id": "2cfaa35d-3cb4-4a0f-ba36-456794cbe57a",
   "metadata": {},
   "outputs": [
    {
     "data": {
      "text/plain": [
       "'PAGE 1Founder, DeepLearning.AICollected Insights\\nfrom Andrew Ng\\nHow to \\nBuild\\nYour\\nCareer\\nin AIA Simple Guide\\n\\n\\nPAGE 2\"AI is the new \\nelectricity. It will \\ntransform and improve \\nall areas of human life.\"\\nAndrew Ng\\n\\nPAGE 3Table of \\nContentsIntroduction: Coding AI is the New Literacy.\\nChapter 1: Three Steps to Career Growth.\\nChapter 2: Learning Technical Skills for a \\nPromising AI Career.\\nChapter 3: Should You Learn Math to Get a Job \\nin AI?\\nChapter 4: Scoping Successful AI Projects.\\nChapter 5: Finding Projects that Complement \\nYour Career Goals.\\nChapter 6: Building a Portfolio of Projects that \\nShows Skill Progression.\\nChapter 7: A Simple Framework for Starting Your AI \\nJob Search.\\nChapter 8: Using Informational Interviews to Find \\nthe Right Job.\\nChapter 9: Finding the Right AI Job for You.\\nChapter 10: Keys to Building a Career in AI.\\nChapter 11: Overcoming Imposter Syndrome.\\nFinal Thoughts: Make Every Day Count.LEARNING\\nPROJECTS\\nJOB\\n\\nPAGE 4Coding AI Is the New Literacy\\nToday we take it for granted that many people know how to read and write. Someday, I hope, \\nit will be just as common that people know how to write code, specifically for AI.\\nSeveral hundred years ago, society didn’t view language literacy as a necessary skill. A small \\nnumber of people learned to read and write, and everyone else let them do the reading and \\nwriting. It took centuries for literacy to spread, and now society is far richer for it.\\nWords enable deep human-to-human communication. Code is the deepest form of human-to-\\nmachine communication. As machines become more central to daily life, that communication \\nbecomes ever more important.\\nTraditional software engineering — writing programs that explicitly tell a computer sequences \\nof steps to execute — has been the main path to code literacy. Many introductory programming \\nclasses use creating a video game or building a website as examples. But AI, machine learning, \\nand data science offer a new paradigm in which computers extract knowledge from data. This \\ntechnology offers an even better pathway to coding.\\nMany Sundays, I buy a slice of pizza from my neighborhood pizza parlor. The gentleman \\nbehind the counter has little reason to learn how to build a video game or write his own \\nwebsite software (beyond personal growth and the pleasure of gaining a new skill).\\nBut AI and data science have great value even for a pizza maker. A linear regression model might \\nenable him to better estimate demand so he can optimize the restaurant’s staffing and supply \\nchain. He could better predict sales of Hawaiian pizza — my favorite! — so he could make more \\nHawaiian pies in advance and reduce the amount of time customers had to wait for them.\\nUses of AI and data science can be found in almost any situation that produces data.  Thus, \\na wide variety of professions will find more uses for custom AI applications and data-derived \\ninsights than for traditional software engineering. This makes literacy in AI-oriented coding \\neven more valuable than traditional coding. It could enable countless individuals to harness \\ndata to make their lives richer.\\nI hope the promise of building basic AI applications, even more than that of building basic \\ntraditional software, encourages more people to learn how to code. If society embraces this \\nnew form of literacy as it has the ability to read and write, we will all benefit.Introduction\\n\\nPAGE 5Three Steps to \\nCareer GrowthCHAPTER 1\\n\\nPAGE 6The rapid rise of AI has led to a rapid rise in AI jobs, and many people are building exciting \\ncareers in this field. A career is a decades-long journey, and the path is not straightforward. \\nOver many years, I’ve been privileged to see thousands of students, as well as engineers in \\ncompanies large and small, navigate careers in AI.\\n \\nHere’s a framework for charting your own course.\\nLater, you will work \\non finding a job. \\nThroughout this \\nprocess, you’ll continue \\nto learn and work on \\nmeaningful projects. \\nChapters with the\\nfocus on a job search.Three key steps of career growth are learning foundational skills, working on projects (to \\ndeepen your skills, build a portfolio, and create impact), and finding a job. These steps stack \\non top of each other:Three Steps to Career Growth\\nLEARNING PROJECTS JOBCHAPTER 1\\nInitially, you \\nfocus on learning \\nfoundational skills. \\nChapters with the \\ncover topics about \\nlearning foundational \\ntechnical skills. After having gained \\nfoundational technical \\nskills, you will begin \\nworking on projects. \\nDuring this period, you’ll \\nalso keep learning. \\nChapters with the     \\nfocus on projects. \\n\\nPAGE 7These phases apply in a wide \\nrange of professions, but AI \\ninvolves unique elements.\\nFor example:Three Steps to Career Growth\\nAI is nascent, and many technologies are still evolving. While the \\nfoundations of machine learning and deep learning are maturing — \\nand coursework is an efficient way to master them — beyond these \\nfoundations, keeping up-to-date with changing technology is more \\nimportant in AI than fields that are more mature.Learning foundational skills is a career-long process:\\nThis can make it challenging to find a suitable project, estimate the project’s \\ntimeline and return on investment, and set expectations. In addition, the \\nhighly iterative nature of AI projects leads to special challenges in project \\nmanagement: How can you come up with a plan for building a system \\nwhen you don’t know in advance how long it will take to achieve the target \\naccuracy? Even after the system has hit the target, further iteration may \\nbe necessary to address post-deployment drift.Working on projects often means collaborating with \\nstakeholders who lack expertise in AI:\\nWhile searching for a job in AI can be similar to searching for a job in \\nother sectors, there are also important differences. Many companies are \\nstill trying to figure out which AI skills they need, and how to hire people \\nwho have them. Things you’ve worked on may be significantly different \\nthan anything your interviewer has seen, and you’re more likely to have to \\neducate potential employers about some elements of your work.Inconsistent opinions on AI skills and jobs roles: CHAPTER 1\\nAs you go through each step, you should also build a supportive community. Having friends and \\nallies who can help you — and who you strive to help — makes the path easier. This is true whether \\nyou’re taking your first steps or you’ve been on the journey for years.LEARNING\\nPROJECTS\\nJOB\\n\\nPAGE 8Learning Technical \\nSkills for a Promising \\nAI CareerCHAPTER 2\\nLEARNING\\n\\nPAGE 9In the previous chapter, I introduced three key steps for building a career in AI: learning \\nfoundational technical skills, working on projects, and finding a job, all of which is supported \\nby being part of a community. In this chapter, I’d like to dive more deeply into the first step: \\nlearning foundational skills.\\nMore research papers have been published on AI than anyone can read in a lifetime. So, when \\nlearning, it’s critical to prioritize topic selection. I believe the most important topics for a technical \\ncareer in machine learning are:\\nFoundational machine learning skills: For example, it’s important to understand models such \\nas linear regression, logistic regression, neural networks, decision trees, clustering, and anomaly \\ndetection. Beyond specific models, it’s even more important to understand the core concepts \\nbehind how and why machine learning works, such as bias/variance, cost functions, regularization, \\noptimization algorithms, and error analysis.\\nDeep learning: This has become such a large fraction of machine learning that it’s hard to excel \\nin the field without some understanding of it! It’s valuable to know the basics of neural networks, \\npractical skills for making them work (such as hyperparameter tuning), convolutional networks, \\nsequence models, and transformers.\\nSoftware development: While you can get a job and make huge contributions with only machine \\nlearning modeling skills, your job opportunities will increase if you can also write good software \\nto implement complex AI systems. These skills include programming fundamentals, data \\nstructures (especially those that relate to machine learning, such as data frames), algorithms \\n(including those related to databases and data manipulation), software design, familiarity with \\nPython, and familiarity with key libraries such as TensorFlow or PyTorch, and scikit-learn.Math relevant to machine learning:  Key areas include linear algebra (vectors, matrices, and various \\nmanipulations of them) as well as probability and statistics (including discrete and continuous \\nprobability, standard probability distributions, basic rules such as independence and Bayes’ rule, \\nand hypothesis testing). In addition, exploratory data analysis (EDA) — using visualizations and other \\nmethods to systematically explore a dataset — is an underrated skill. I’ve found EDA particularly \\nuseful in data-centric AI development, where analyzing errors and gaining insights can really help \\ndrive progress! Finally, a basic intuitive understanding of calculus will also help. The math needed \\nto do machine learning well has been changing. For instance, although some tasks require calculus, \\nimproved automatic differentiation software makes it possible to invent and implement new neural \\nnetwork architectures without doing any calculus. This was almost impossible a decade ago.Learning Technical Skills For a Promising AI Career CHAPTER 2\\n\\nPAGE 10This is a lot to learn!\\nEven after you master everything on this list, I hope you’ll keep learning and continue to deepen \\nyour technical knowledge. I’ve known many machine learning engineers who benefitted from \\ndeeper skills in an application area such as natural language processing or computer vision, or in \\na technology area such as probabilistic graphical models or building scalable software systems.\\nHow do you gain these skills? There’s a lot of good content on the internet, and in theory, \\nreading dozens of web pages could work. But when the goal is deep understanding, reading \\ndisjointed web pages is inefficient because they tend to repeat each other, use inconsistent \\nterminology (which slows you down), vary in quality, and leave gaps. That’s why a good course \\n— in which a body of material has been organized into a coherent and logical form — is often the \\nmost time-efficient way to master a meaningful body of knowledge. When you’ve absorbed the \\nknowledge available in courses, you can switch over to research papers and other resources.\\nFinally, no one can cram everything they need to know over a weekend or even a month. Everyone I \\nknow who’s great at machine learning is a lifelong learner. Given how quickly our field is changing, \\nthere’s little choice but to keep learning if you want to keep up.\\nHow can you maintain a steady pace of learning for years? If you can cultivate the habit of \\nlearning a little bit every week, you can make significant progress with what feels like less effort.Learning Technical Skills For a Promising AI Career CHAPTER 2\\n\\n\\nPAGE 11\\nThe Best Way to Build \\na New Habit\\nOne of my favorite books is BJ Fogg’s, Tiny Habits: The Small Changes That Change \\nEverything. Fogg explains that the best way to build a new habit is to start small \\nand succeed, rather than start  too big and fail. For example, rather than trying to \\nexercise for 30 minutes a day, he recommends aspiring to do just one push-up, and \\ndoing it consistently.\\nThis approach may be helpful to those of you who want to spend more time studying. \\nIf you start by holding yourself accountable for watching, say, 10 seconds of an \\neducational video every day — and you do so consistently — the habit of studying daily \\nwill grow naturally. Even if you learn nothing in that 10 seconds, you’re establishing the \\nhabit of studying a little every day. On some days, maybe you’ll end up studying for an \\nhour or longer.\\n\\nPAGE 12Should You \\nLearn Math to \\nGet a Job in AI? CHAPTER 3\\nLEARNING\\n\\nPAGE 13Should you Learn Math to Get a Job in AI? CHAPTER 3\\nIs math a foundational skill for AI? It’s always nice to know more math! But there’s so much to \\nlearn that, realistically, it’s necessary to prioritize. Here’s how you might go about strengthening \\nyour math background.\\nTo figure out what’s important to know, I find it useful to ask what you need to know to make \\nthe decisions required for the work you want to do. At DeepLearning.AI, we frequently ask, \\n“What does someone need to know to accomplish their goals?” The goal might be building a \\nmachine learning model, architecting a system, or passing a job interview.\\nUnderstanding the math behind algorithms you use is often helpful, since it enables you to \\ndebug them. But the depth of knowledge that’s useful changes over time. As machine learning \\ntechniques mature and become more reliable and turnkey, they require less debugging, and a \\nshallower understanding of the math involved may be sufficient to make them work.\\nFor instance, in an earlier era of machine learning, linear algebra libraries for solving linear \\nsystems of equations (for linear regression) were immature. I had to understand how these \\nlibraries worked so I could choose among different libraries and avoid numerical roundoff \\npitfalls. But this became less important as numerical linear algebra libraries matured.\\nDeep learning is still an emerging technology, so when you train a neural network and the \\noptimization algorithm struggles to converge, understanding the math behind gradient \\ndescent, momentum, and the Adam  optimization algorithm will help you make better decisions. \\nSimilarly, if your neural network does something funny — say, it makes bad predictions on \\nimages of a certain resolution, but not others — understanding the math behind neural network \\narchitectures puts you in a better position to figure out what to do.\\nOf course, I also encourage learning driven by curiosity. If something interests you, go ahead \\nand learn it regardless of how useful it might turn out to be!  Maybe this will lead to a creative \\nspark or technical breakthrough.How much math do you need to know to be a machine learning engineer?\\n\\nPAGE 14Scoping Successful \\nAI ProjectsCHAPTER 4\\nPROJECTS\\n\\nPAGE 15One of the most important skills of an AI architect is the ability to identify ideas that are worth \\nworking on. These next few chapters will discuss finding and working on projects so you can gain \\nexperience and build your portfolio. \\nOver the years, I’ve had fun applying machine learning to manufacturing, healthcare, climate \\nchange, agriculture, ecommerce, advertising, and other industries. How can someone who’s not \\nan expert in all these sectors find meaningful projects within them? Here are five steps to help \\nyou scope projects.\\nIdentify a business problem (not an AI problem). I like to find \\na domain expert and ask, “What are the top three things \\nthat you wish worked better? Why aren’t they working yet?” \\nFor example, if you want to apply AI to climate change, you \\nmight discover that power-grid operators can’t accurately \\npredict how much power intermittent sources like wind \\nand solar might generate in the future.\\nBrainstorm AI solutions. When I was younger, I used to \\nexecute on the first idea I was excited about. Sometimes \\nthis worked out okay, but sometimes I ended up missing \\nan even better idea that might not have taken any more \\neffort to build. Once you understand a problem, you can \\nbrainstorm potential solutions more efficiently. For instance, \\nto predict power generation from intermittent sources, we \\nmight consider using satellite imagery to map the locations \\nof wind turbines more accurately, using satellite imagery \\nto estimate the height and generation capacity of wind \\nturbines, or using weather data to better predict cloud cover \\nand thus solar irradiance. Sometimes there isn’t a good AI \\nsolution, and that’s okay too.Scoping Successful AI Projects CHAPTER 4\\nStep 1\\nStep 2\\n\\n\\nPAGE 16Determine milestones. Once you’ve deemed a project sufficiently \\nvaluable, the next step is to determine the metrics to aim for. This \\nincludes both machine learning metrics (such as accuracy) and \\nbusiness metrics (such as revenue). Machine learning teams are often \\nmost comfortable with metrics that a learning algorithm can optimize. \\nBut we may need to stretch outside our comfort zone to come up \\nwith business metrics, such as those related to user engagement, \\nrevenue, and so on. Unfortunately, not every business problem can be \\nreduced to optimizing test set accuracy! If you aren’t able to determine \\nreasonable milestones, it may be a sign that you need to learn more \\nabout the problem. A quick proof of concept can help supply the \\nmissing perspective.Assess the feasibility and value of potential solutions. You can determine \\nwhether an approach is technically feasible by looking at published work, \\nwhat competitors have done, or perhaps building a quick proof of concept \\nimplementation. You can determine its value by consulting with domain \\nexperts (say, power-grid operators, who can advise on the utility of the \\npotential solutions mentioned above).\\nBudget for resources. Think through everything you’ll need to get the \\nproject done including data, personnel, time, and any integrations or \\nsupport you may need from other teams. For example, if you need funds \\nto purchase satellite imagery, make sure that’s in the budget.\\nWorking on projects is an iterative process. If, at any step, you find that the current direction is \\ninfeasible, return to an earlier step and proceed with your new understanding. Is there a domain \\nthat excites you where AI might make a difference? I hope these steps will guide you in exploring it \\nthrough project work — even if you don’t yet have deep expertise in that field. AI won’t solve every \\nproblem, but as a community, let’s look for ways to make a positive impact wherever we can.Scoping Successful AI Projects CHAPTER 4\\nStep 3\\nStep 4\\nStep 5\\n\\nPAGE 17Finding Projects that \\nComplement Your \\nCareer GoalsCHAPTER 5\\nPROJECTS\\n\\nPAGE 18It goes without saying that we should only work on projects that are responsible, ethical, and \\nbeneficial to people. But those limits leave a large variety to choose from. In the previous chapter, \\nI wrote about how to identify and scope AI projects. This chapter and the next have a slightly \\ndifferent emphasis: picking and executing projects with an eye toward career development.\\nA fruitful career will include many projects, hopefully growing in scope, complexity, and impact \\nover time. Thus, it is fine to start small. Use early projects to learn and gradually step up to \\nbigger projects as your skills grow.\\nWhen you’re starting out, don’t expect others to hand great ideas or resources to you on a platter. \\nMany people start by working on small projects in their spare time. With initial successes — even \\nsmall ones — under your belt, your growing skills increase your ability to come up with better \\nideas, and it becomes easier to persuade others to help you step up to bigger projects.Finding Projects that Compliment Your Career Goals CHAPTER 5\\nJoin existing projects. If you find someone else with an idea, ask to join their project.\\nKeep reading and talking to people. I come up with new ideas whenever I spend a lot of \\ntime reading, taking courses, or talking with domain experts. I’m confident that you will, too.\\nFocus on an application area. Many researchers are trying to advance basic AI technology \\n— say, by inventing the next generation of transformers or further scaling up language \\nmodels — so, while this is an exciting direction, it is also very hard. But the variety of \\napplications to which machine learning has not yet been applied is vast! I’m fortunate to \\nhave been able to apply neural networks to everything from autonomous helicopter flight to \\nonline advertising, partly because I jumped in when relatively few people were working on \\nthose applications. If your company or school cares about a particular application, explore \\nthe possibilities for machine learning. That can give you a first look at a potentially creative \\napplication — one where you can do unique work — that no one else has done yet.✓\\n✓\\n✓What if you don’t have any project ideas?\\nHere are a few ways to generate them:\\n\\nPAGE 19Develop a side hustle. Even if you have a full-time job, a fun project that may or may not \\ndevelop into something bigger can stir the creative juices and strengthen bonds with \\ncollaborators. When I was a full-time professor, working on online education wasn’t part of \\nmy “job” (which was doing research and teaching classes). It was a fun hobby that I often \\nworked on out of passion for education. My early experiences in recording videos at home \\nhelped me later in working on online education in a more substantive way. Silicon Valley \\nabounds with stories of startups that started as side projects. As long as it doesn’t create a \\nconflict with your employer, these projects can be a stepping stone to something significant.\\nWill the project help you grow technically? Ideally, it should be challenging enough to \\nstretch your skills but not so hard that you have little chance of success. This will put you \\non a path toward mastering ever-greater technical complexity.\\nDo you have good teammates to work with? If not, are there people you can discuss things \\nwith? We learn a lot from the people around us, and good collaborators will have a huge \\nimpact on your growth.\\nCan it be a stepping stone?  If the project is successful, will its technical complexity and/\\nor business impact make it a meaningful stepping stone to larger projects? If the project \\nis bigger than those you’ve worked on before, there’s a good chance it could be such a \\nstepping stone.✓\\n✓\\n✓\\n✓Given a few project ideas, which one should you jump into? \\nHere’s a quick checklist of factors to consider:\\nFinally, avoid analysis paralysis. It doesn’t make sense to spend a month deciding whether to \\nwork on a project that would take a week to complete. You\\'ll work on multiple projects over \\nthe course of your career, so you’ll have ample opportunity to refine your thinking on what’s \\nworthwhile. Given the huge number of possible AI projects, rather than the conventional “ready, \\naim, fire” approach, you can accelerate your progress with “ready, fire, aim.”Finding Projects that Compliment Your Career Goals CHAPTER 5\\n\\nPAGE 20Working on projects requires making tough choices about what to build and how to go \\nabout it. Here are two distinct styles:\\nSay you’ve built a customer-service chatbot for retailers, and you think it could help restaurants, \\ntoo. Should you take time to study the restaurant market before starting development, moving \\nslowly but cutting the risk of wasting time and resources? Or jump in right away, moving \\nquickly and accepting a higher risk of pivoting or failing?\\nBoth approaches have their advocates, and the best choice depends on the situation.\\nReady, Aim, Fire tends to be superior when the cost of execution is high and a study can shed \\nlight on how useful or valuable a project could be. For example, if you can brainstorm a few \\nother use cases (restaurants, airlines, telcos, and so on) and evaluate these cases to identify \\nthe most promising one, it may be worth taking the extra time before committing to a direction.\\nReady, Fire, Aim tends to be better if you can execute at low cost and, in doing so, determine \\nwhether the direction is feasible and discover tweaks that will make it work. For example, if \\nyou can build a prototype quickly to figure out if users want the product, and if canceling or \\npivoting after a small amount of work is acceptable, then it makes sense to consider jumping \\nin quickly. When taking a shot is inexpensive, it also makes sense to take many shots. In this \\ncase, the process is actually Ready, Fire, Aim, Fire, Aim, Fire, Aim, Fire. \\nAfter agreeing upon a project direction, when it comes to building a machine learning model \\nthat’s part of the product, I have a bias toward Ready, Fire, Aim. Building models is an iterative \\nprocess. For many applications, the cost of training and conducting error analysis is not \\nprohibitive. Furthermore, it is very difficult to carry out a study that will shed light on the \\nappropriate model, data, and hyperparameters. So it makes sense to build an end-to-end \\nsystem quickly and revise it until it works well.\\nBut when committing to a direction means making a costly investment or entering a one-\\nway door  (meaning a decision that’s hard to reverse), it’s often worth spending more time in \\nadvance to make sure it really is a good idea.Ready, Fire, Aim\\nReady, Aim, Fire: Plan carefully and carry out careful validation. Commit and \\nexecute only when you have a high degree of confidence in a direction.\\nReady, Fire, Aim: Jump into development and start executing. This allows you to \\ndiscover problems quickly and pivot along the way if necessary.✓\\n✓\\n\\nPAGE 21Building a Portfolio of \\nProjects that Shows \\nSkill Progression CHAPTER 6\\nPROJECTS\\n\\nPAGE 22Over the course of a career, you’re likely to work on projects in succession, each growing in \\nscope and complexity. For example:\\nThe first few projects might be narrowly scoped \\nhomework assignments with predetermined right \\nanswers. These are often great learning experiences!\\nEventually, you will gain enough skill to build projects in \\nwhich others see more tangible value. This opens the door \\nto more resources. For example, rather than developing \\nmachine learning systems in your spare time, it might \\nbecome part of your job, and you might gain access to more \\nequipment, compute time, labeling budget, or head count.You might go on to work on small-scale projects either alone or with friends. \\nFor instance, you might re-implement a known algorithm, apply machine \\nlearning to a hobby (such as predicting whether your favorite sports team \\nwill win), or build a small but useful system at work in your spare time (such \\nas a machine learning-based script that helps a colleague automate some of \\ntheir work). Participating in competitions such as those organized by Kaggle \\nis also one way to gain experience.\\nSuccesses build on each other, opening the door to \\nmore technical growth, more resources, and increasingly \\nsignificant project opportunities.1. Class projects:\\n3. Creating value2. Personal projects\\n4. Rising scope and complexityBuilding a Portfolio of Projects That Shows Skill Progression CHAPTER 6\\n\\nPAGE 23Each project is only one step on a longer journey, hopefully one that has a positive impact. In addition:\\nDon’t worry about starting too small. One of my first machine learning research projects involved \\ntraining a neural network to see how well it could mimic the sin(x) function. It wasn’t very useful, but \\nwas a great learning experience that enabled me to move on to bigger projects.\\nBuilding a portfolio of projects, especially one \\nthat shows progress over time from simple to \\ncomplex undertakings, will be a big help when \\nit comes to looking for a job.Communication is key.  You need to be able to explain your thinking if you want others to see \\nthe value in your work and trust you with resources that you can invest in larger projects. To get \\na project started, communicating the value of what you hope to build will help bring colleagues, \\nmentors, and managers onboard — and help them point out flaws in your reasoning. After you’ve \\nfinished, the ability to explain clearly what you accomplished will help convince others to open the \\ndoor to larger projects.\\nLeadership isn’t just for managers.  When you reach the point of working on larger AI projects that \\nrequire teamwork, your ability to lead projects will become more important, whether or not you are \\nin a formal position of leadership. Many of my friends have successfully pursued a technical rather \\nthan managerial career, and their ability to help steer a project by applying deep technical insights \\n— for example, when to invest in a new technical architecture or collect more data of a certain type \\n— allowed them to grow as leaders and also helped significantly improve the project.Building a Portfolio of Projects That Shows Skill Progression CHAPTER 6\\n\\nPAGE 24A Simple Framework \\nfor Starting Your AI \\nJob SearchCHAPTER 7\\nJOBS\\n\\nPAGE 25Finding a job has a few predictable steps that include selecting the companies to which you \\nwant to apply, preparing for interviews, and finally picking a role and negotiating a salary and \\nbenefits. In this chapter, I’d like to focus on a framework that’s useful for many job seekers in \\nAI, especially those who are entering AI from a different field.\\nA product manager at a tech startup who becomes a data scientist at the same company (or a \\ndifferent one) has switched roles. A marketer at a manufacturing firm who becomes a marketer \\nin a tech company has switched industries. An analyst in a financial services company who \\nbecomes a machine learning engineer in a tech company has switched both roles and industries.\\nIf you’re looking for your first job in AI, you’ll probably find switching either roles or industries \\neasier than doing both at the same time. Let’s say you’re the analyst working in financial services:If you’re considering your next job, ask yourself:\\nJob \\nSearchAre you switching roles? For example, if you’re a software engineer, \\nuniversity student, or physicist who’s looking to become a machine learning \\nengineer, that’s a role switch.\\nAre you switching industries? For example, if you work for a healthcare \\ncompany, financial services company, or a government agency and want \\nto work for a software company, that’s a switch in industries.✓\\n✓\\nIf you find a data science or machine learning job in financial services, you can continue \\nto use your domain-specific knowledge while gaining knowledge and expertise in AI. After \\nworking in this role for a while, you’ll be better positioned to switch to a tech company (if \\nthat’s still your goal).\\nAlternatively, if you become an analyst in a tech company, you can continue to use your \\nskills as an analyst but apply them to a different industry. Being part of a tech company also \\nmakes it much easier to learn from colleagues about practical challenges of AI, key skills to \\nbe successful in AI, and so on.✓\\n✓A Simple Framework for Starting You AI Job Search CHAPTER 7\\nTECHFINANCIAL \\nSERVICESRole & Industry SwitchRole Switch\\nIndustry SwitchANALYSTMACHINE LEARNING \\nENGINEER\\n\\nPAGE 26If you’re considering a role switch, a startup can be an easier place to do it than a big company. \\nWhile there are exceptions, startups usually don’t have enough people to do all the desired \\nwork. If you’re able to help with AI tasks — even if it’s not your official job — your work is likely \\nto be appreciated. This lays the groundwork for a possible role switch without needing to leave \\nthe company. In contrast, in a big company, a rigid reward system is more likely to reward you \\nfor doing your job well (and your manager for supporting you in doing the job for which you were \\nhired), but it’s not as likely to reward contributions outside your job’s scope.\\nAfter working for a while in your desired role and industry (for example, a machine learning \\nengineer in a tech company), you’ll have a good sense of the requirements for that role in that \\nindustry at a more senior level. You’ll also have a network within that industry to help you along. \\nSo future job searches — if you choose to stick with the role and industry — likely will be easier.\\nWhen changing jobs, you’re taking a step into the unknown, particularly if you’re switching either \\nroles or industries. One of the most underused tools for becoming more familiar with a new role \\nand/or industry is the informational interview. I’ll share more about that in the next chapter.\\nI’m grateful to Salwa Nur Muhammad, CEO of FourthBrain (a DeepLearning.AI affiliate), for providing \\nsome of the ideas presented in this chapter.\\n\\n\\nPAGE 27There’s a lot we don’t know about the future: When will we cure Alzheimer’s disease? Who will \\nwin the next election? Or, in a business context, how many customers will we have next year?\\nWith so many changes going on in the world, many people are feeling stressed about the \\nfuture, especially when it comes to finding a job. I have a practice that helps me regain a sense \\nof control. Faced with uncertainty, I try to:\\nFor example, during the Covid-19 pandemic back in March 2020, I did this scenario planning \\nexercise. I imagined quick (three months), medium (one year), and slow (two years) recoveries \\nfrom Covid-19 and made plans for managing each case. These plans have helped me prioritize \\nwhere I can.\\nThe same method can apply to personal life, too. If you’re not sure you’ll pass an exam, get a \\njob offer, or be granted a visa — all of which can be stressful — you can write out what you’d \\ndo in each of the likely scenarios. Thinking through the possibilities and following through on \\nplans can help you navigate the future effectively no matter what it brings.\\nBonus: With training in AI and statistics, you can calculate a probability for each scenario. \\nI’m a fan of the Superforecasting methodology, in which the judgments of many experts are \\nsynthesized into a probability estimate. Overcoming Uncertainty\\nMake a list of plausible scenarios, \\nacknowledging that I don’t know \\nwhich will come to pass.Create a plan of action \\nfor each scenario.\\nStart executing actions \\nthat seem reasonable.Review scenarios and plans \\nperiodically as the future \\ncomes into focus.1 2\\n3 4\\n\\nPAGE 28Using Informational \\nInterviews to Find \\nthe Right JobCHAPTER 8\\nJOBS\\n\\nPAGE 29If you’re preparing to switch roles (say, taking a job as a machine learning engineer for the first \\ntime) or industries (say, working in an AI tech company for the first time), there’s a lot about \\nyour target job that you probably don’t know. A technique known as informational interviewing \\nis a great way to learn.\\nAn informational interview involves finding someone in a company or role you’d like to know \\nmore about and informally interviewing them about their work. Such conversations are separate \\nfrom searching for a job. In fact, it’s helpful to interview people who hold positions that align \\nwith your interests well before you’re ready to kick off a job search.\\nPrepare for informational interviews by researching the interviewee and company in advance, \\nso you can arrive with thoughtful questions. You might ask:Informational interviews are particularly relevant to AI. Because the field is evolving, many \\ncompanies use job titles in inconsistent ways. In one company, data scientists might be \\nexpected mainly to analyze business data and present conclusions on a slide deck. In \\nanother, they might write and maintain production code. An informational interview can help \\nyou sort out what the AI people in a particular company actually do.\\nWith the rapid expansion of opportunities in AI, many people will be taking on an AI job for \\nthe first time. In this case, an informational interview can be invaluable for learning what \\nhappens and what skills are needed to do the job well. For example, you can learn what \\nalgorithms, deployment processes, and software stacks a particular company uses. You \\nmay be surprised — if you’re not already familiar with the data-centric AI movement — to \\nlearn how much time most machine learning engineers spend iteratively cleaning datasets.✓\\n✓\\nWhat do you do in a typical week or day?\\nWhat are the most important tasks in this role?\\nWhat skills are most important for success?\\nHow does your team work together to accomplish its goals?\\nWhat is the hiring process?\\nConsidering candidates who stood out in the past, what enabled them to shine?✓\\n✓\\n✓\\n✓\\n✓\\n✓Using Informational Interviews to Find the Right Job CHAPTER 8\\n\\nPAGE 30Finding someone to interview isn’t always easy, but many people who are in senior positions today \\nreceived help when they were new from those who had entered the field ahead of them, and many \\nare eager to pay it forward. If you can reach out to someone who’s already in your network — \\nperhaps a friend who made the transition ahead of you or someone who attended the same school \\nas you — that’s great! Meetups such as Pie & AI can also help you build your network.\\nFinally, be polite and professional, and thank the people you’ve interviewed. And when you get \\na chance, please pay it forward as well and help someone coming up after you. If you receive \\na request for an informational interview from someone in the DeepLearning.AI community, \\nI hope you’ll lean in to help them take a step up! If you’re interested in learning more about \\ninformational interviews, I recommend this article from the UC Berkeley Career Center.\\nI’ve mentioned a few times the importance of your network and community. People you’ve \\nmet, beyond providing valuable information, can also play an invaluable role by referring you to \\npotential employers. Using Informational Interviews to Find the Right Job CHAPTER 8\\n\\n\\nPAGE 31Finding the Right \\nAI Job for YouCHAPTER 9\\nJOBS\\n\\nPAGE 32In this chapter, I’d like to \\ndiscuss some fine points \\nof finding a job.\\nThe typical job search follows a fairly predictable path.\\nAlthough the process may be familiar, every job search is different. Here are some tips to increase \\nthe odds you’ll find a position that supports your thriving career and enables you to keep growing.Research roles and companies online or by talking to friends.\\nOptionally, arrange informal informational interviews with people in companies that appeal to you.\\nEither apply directly or, if you can, get a referral from someone on the inside.\\nInterview with companies that give you an invitation.\\nReceive one or more offers and pick one. Or, if you don’t receive an offer, ask for feedback \\nfrom the interviewers, human resources staff, online discussion boards, or anyone in your \\nnetwork who can help you plot your next move.✓\\n✓\\n✓\\n✓\\n✓\\nPay attention to the fundamentals.  A compelling resume, portfolio of technical projects, and \\na strong interview performance will unlock doors. Even if you have a referral from someone in a \\ncompany, a resume and portfolio will be your first contact with many people who don’t already \\nknow about you. Update your resume and make sure it clearly presents your education and \\nexperience relevant to the role you want. Customize your communications with each company \\nto explain why you’re a good fit. Before an interview, ask the recruiter what to expect. Take time \\nto review and practice answers to common interview questions, brush up key skills, and study \\ntechnical materials to make sure they are fresh in your mind. Afterward, take notes to help you \\nremember what was said.\\nProceed respectfully and responsibly. Approach interviews and offer negotiations with a win-\\nwin mindset. Outrage spreads faster than reasonableness on social media, so a story about \\nhow an employer underpaid someone gets amplified, whereas stories about how an employer \\ntreated someone fairly do not. The vast majority of employers are ethical and fair, so don’t let \\nstories about the small fraction of mistreated individuals sway your approach. If you’re leaving \\na job, exit gracefully. Give your employer ample notice, give your full effort through your last \\nhour on the job, transition unfinished business as best you can, and leave in a way that honors \\nthe responsibilities you were entrusted with.Finding the Right AI Job For You CHAPTER 9\\n\\nPAGE 33Choose who to work with. It’s tempting to take a position because of the projects you’ll work \\non. But the teammates you’ll work with are at least equally important. We’re influenced by \\npeople around us, so your colleagues will make a big difference. For example, if your friends \\nsmoke, the odds increase that you, too, will smoke. I don’t know of a study that shows this, \\nbut I’m pretty sure that if most of your colleagues work hard, learn continuously, and build AI \\nto benefit all people, you’re likely to do the same. (By the way, some large companies won’t \\ntell you who your teammates will be until you’ve accepted an offer. In this case, be persistent \\nand keep pushing to identify and speak with potential teammates. Strict policies may make it \\nimpossible to accommodate you, but in my mind, that increases the risk of accepting the offer, \\nas it increases the odds you’ll end up with a manager or teammates who aren’t a good fit.)\\nGet help from your community. Most of us go job hunting only a small number of times in our \\ncareers, so few of us get much practice at doing it well. Collectively, though, people in your \\nimmediate community probably have a lot of experience. Don’t be shy about calling on them. \\nFriends and associates can provide advice, share inside knowledge, and refer you to others \\nwho may help. I got a lot of help from supportive friends and mentors when I applied for my \\nfirst faculty position, and many of the tips they gave me were very helpful.\\nI know that the job-search process can be intimidating. Instead of viewing it as a great leap, \\nconsider an incremental approach. Start by identifying possible roles and conducting a handful \\nof informational interviews. If these conversations tell you that you have more learning to do \\nbefore you’re ready to apply, that’s great! At least you have a clear path forward. The most \\nimportant part of any journey is to take the first step, and that step can be a small one.Finding the Right AI Job For You CHAPTER 9\\n\\nPAGE 34Keys to Building a \\nCareer in AICHAPTER 10\\nJOBS\\n\\nPAGE 35Keys to Building a Career in AI CHAPTER 10\\nThe path to career success in AI is more complex than what I can  cover in one short eBook. \\nHopefully the previous chapters will give you momentum to move forward. \\nHere are additional things to think about as you plot your path to success: \\nWhen we tackle large projects, we succeed better by \\nworking in teams than individually. The ability to collaborate \\nwith, influence, and be influenced by others is critical. \\nThus, interpersonal and communication skills really matter. \\n(I used to be a pretty bad communicator, by the way.)1. Teamwork:\\nI hate networking! As an introvert, having to go to a party \\nto smile and shake as many hands as possible is an activity \\nthat borders on horrific. I’d much rather stay home and read \\na book. Nonetheless, I’m fortunate to have found many \\ngenuine friends in AI; people I would gladly go to bat for \\nand who I count on as well. No person is an island, and \\nhaving a strong professional network can help propel you \\nforward in the moments when you need help or advice. In \\nlieu of networking, I’ve found it more helpful to think about \\nbuilding up a community. So instead of trying to build up \\nmy personal network, I focus instead on building up the \\ncommunities that I’m part of. This has the side effect of \\nhelping me meet more people and make friends as well. 2. Networking:\\n\\n\\nPAGE 36Keys to Building a Career in AI CHAPTER 10\\nOf all the steps in building a career, this \\none tends to receive the most attention. \\nUnfortunately, there is a lot of bad advice \\nabout this on the internet. (For example, many \\narticles urge taking an adversarial attitude \\ntoward potential employers, which I don’t think \\nis helpful.) Although it may seem like finding a \\njob is the ultimate goal, it’s just one small step \\nin the long journey of a career.3. Job search\\nFew people will know whether you spend \\nyour weekends learning, or binge watching \\nTV — but they will notice the difference over \\ntime. Many successful people develop good \\nhabits in eating, exercise, sleep, personal \\nrelationships, work, learning, and self-care. \\nSuch habits help them move forward while \\nstaying healthy.4. Personal discipline\\nI find that people  who aim to lift others during \\nevery step of their own journey often achieve \\nbetter outcomes for themselves. How can we \\nhelp others even as we build an exciting career \\nfor ourselves?5. Altruism\\n\\n\\nPAGE 37Overcoming Imposter \\nSyndromeCHAPTER 11\\n\\nPAGE 38Before we dive into the final chapter of this book, I’d like to address the serious matter of \\nnewcomers to AI sometimes experiencing imposter syndrome, where someone — regardless \\nof their success in the field — wonders if they’re a fraud and really belong in the AI community. \\nI want to make sure this doesn’t discourage you or anyone else from growing in AI.\\nAn estimated 70 percent of people experience some form of imposter syndrome at some point. \\nMany talented people have spoken publicly about this experience, including former Facebook \\nCOO Sheryl Sandberg, U.S. first lady Michelle Obama, actor Tom Hanks, and Atlassian co-CEO \\nMike Cannon-Brookes. It happens in our community even among accomplished people. If you’ve \\nnever experienced this yourself, that’s great! I hope you’ll join me in encouraging and welcoming \\neveryone who wants to join our community.\\nAI is technically complex, and it has its fair share of smart and highly capable people. But it is \\neasy to forget that to become good at anything, the first step is to suck at it. If you’ve succeeded \\nat sucking at AI — congratulations, you’re on your way!\\nI once struggled to understand the math behind linear regression. I was mystified when \\nlogistic regression performed strangely on my data, and it took me days to find a bug in my \\nimplementation of a basic neural network. Today, I still find many research papers challenging \\nto read, and I recently made an obvious mistake while tuning a neural network hyperparameter \\n(that fortunately a fellow engineer caught and fixed).\\nSo if you, too, find parts of AI challenging, it’s okay. We’ve all been there. I guarantee that everyone \\nwho has published a seminal AI paper struggled with similar technical challenges at some point.Let me be clear: If you want to be part of the AI \\ncommunity, then I welcome you with open arms. \\nIf you want to join us, you fully belong with us!Overcoming Imposter Syndrome\\n\\nPAGE 39My three-year-old daughter (who can barely count to 12) regularly tries to teach things to my \\none-year-old son. No matter how far along you are — if you’re at least as knowledgeable as a \\nthree-year-old — you can encourage and lift up others behind you. Doing so will help you, too, \\nas others behind you will recognize your expertise and also encourage you to keep developing. \\nWhen you invite others to join the AI community, which I hope you will do, it also reduces any \\ndoubts that you are already one of us.\\nAI is such an important part of our world that I would like everyone who wants to be part of it \\nto feel at home as a member of our community. Let’s work together to make it happen.Here are some things that can help.\\nDo you have supportive mentors or peers? If you don’t yet, attend Pie & AI or other events, \\nuse discussion boards, and work on finding some. If your mentors or manager don’t support \\nyour growth, find ones who do. I’m also working on how to grow a supportive AI community \\nand hope to make finding and giving support easier for everyone.\\nNo one is an expert at everything. Recognize what you do well. If what you do well is \\nunderstand and explain to your friends one-tenth of the articles in The Batch,  then you’re \\non your way! Let’s work on getting you to understand two-tenths of the articles.✓\\n✓\\nOvercoming Imposter Syndrome\\n\\nPAGE 40Make Every Day CountFinal Thoughts\\nEvery year on my birthday, I get to thinking about the days behind and those \\nthat may lie ahead.\\nWhen I ask friends, many choose a number in the hundreds of \\nthousands. (Many others can’t resist calculating the answer, \\nto my annoyance!)\\nWhen I was a grad student, I remember plugging my statistics \\ninto a mortality calculator to figure out my life expectancy. \\nThe calculator said I could expect to live a total of 27,649 \\ndays. It struck me how small this number is. I printed it in a \\nlarge font and pasted it on my office wall as a daily reminder.\\nThat’s all the days we have to spend with loved ones, learn, \\nbuild for the future, and help others. Whatever you’re doing \\ntoday, is it worth 1/30,000 of your life?How many days is a \\ntypical human lifespan?Maybe you’re good at math; I’m sure you’ll be able to answer the following question \\nvia a quick calculation. But let me ask you a question, and please answer from \\nyour gut, without calculating.\\n20,000 days 100,000 days\\n1 million days 5 million days\\n\\nPAGE 41\\n'"
      ]
     },
     "execution_count": 7,
     "metadata": {},
     "output_type": "execute_result"
    }
   ],
   "source": [
    "document.text"
   ]
  },
  {
   "cell_type": "code",
   "execution_count": 8,
   "id": "d7083f54-6293-4639-9b31-55d6ac937b10",
   "metadata": {},
   "outputs": [],
   "source": [
    "from llama_index import VectorStoreIndex\n",
    "from llama_index import ServiceContext\n",
    "from llama_index.llms import OpenAI\n",
    "\n",
    "# 1 using service context\n",
    "llm = OpenAI(model=\"gpt-3.5-turbo\", temperature=0.1)\n",
    "service_context = ServiceContext.from_defaults(\n",
    "    llm=llm, embed_model=\"local:BAAI/bge-small-en-v1.5\"\n",
    ")\n",
    "index = VectorStoreIndex.from_documents([document],\n",
    "                                        service_context=service_context)"
   ]
  },
  {
   "cell_type": "code",
   "execution_count": 9,
   "id": "199635da-7cc6-4e64-b30c-499e87881af1",
   "metadata": {},
   "outputs": [],
   "source": [
    "# we will now run a query engine\n",
    "query_engine = index.as_query_engine()"
   ]
  },
  {
   "cell_type": "code",
   "execution_count": 10,
   "id": "e35f0e6e-7d55-493d-8f61-00cb209a4ce5",
   "metadata": {},
   "outputs": [
    {
     "name": "stderr",
     "output_type": "stream",
     "text": [
      "huggingface/tokenizers: The current process just got forked, after parallelism has already been used. Disabling parallelism to avoid deadlocks...\n",
      "To disable this warning, you can either:\n",
      "\t- Avoid using `tokenizers` before the fork if possible\n",
      "\t- Explicitly set the environment variable TOKENIZERS_PARALLELISM=(true | false)\n"
     ]
    },
    {
     "name": "stdout",
     "output_type": "stream",
     "text": [
      "When finding projects to build your experience, there are several steps you can take. First, you can join existing projects by asking to join someone else's project if they have an idea. Additionally, you can continue reading, taking courses, and talking to domain experts to come up with new ideas. It is also helpful to focus on a specific application area where machine learning has not yet been applied. This can give you the opportunity to explore unique and creative applications that no one else has done yet. Finally, you can develop a side hustle or personal project that may or may not develop into something bigger, as this can stir your creative juices and strengthen bonds with collaborators.\n"
     ]
    }
   ],
   "source": [
    "response = query_engine.query(\n",
    "    \"What are steps to take when finding projects to build your experience?\"\n",
    ")\n",
    "print(str(response))"
   ]
  },
  {
   "cell_type": "code",
   "execution_count": 11,
   "id": "5860a57a-b2f6-4761-85fb-dedf7ea6f632",
   "metadata": {},
   "outputs": [],
   "source": [
    "# Evaluation setup using TruLens"
   ]
  },
  {
   "cell_type": "code",
   "execution_count": 12,
   "id": "f8b515fb-4382-4201-a1e4-58aa0ad74a04",
   "metadata": {},
   "outputs": [
    {
     "name": "stdout",
     "output_type": "stream",
     "text": [
      "What are the keys to building a career in AI?\n",
      "How can teamwork contribute to success in AI?\n",
      "What is the importance of networking in AI?\n",
      "What are some good habits to develop for a successful career?\n",
      "How can altruism be beneficial in building a career?\n",
      "What is imposter syndrome and how does it relate to AI?\n",
      "Who are some accomplished individuals who have experienced imposter syndrome?\n",
      "What is the first step to becoming good at AI?\n",
      "What are some common challenges in AI?\n",
      "Is it normal to find parts of AI challenging?\n"
     ]
    }
   ],
   "source": [
    "eval_questions = []\n",
    "with open('data/eval_questions.txt', 'r') as file:\n",
    "    for line in file:\n",
    "        # Remove newline character and convert to integer\n",
    "        item = line.strip()\n",
    "        print(item)\n",
    "        eval_questions.append(item)"
   ]
  },
  {
   "cell_type": "code",
   "execution_count": 13,
   "id": "4998e7ec-3726-48eb-9008-0a55f7c060d7",
   "metadata": {},
   "outputs": [],
   "source": [
    "# You can try your own question:\n",
    "new_question = \"What is the right AI job for me?\"\n",
    "eval_questions.append(new_question)"
   ]
  },
  {
   "cell_type": "code",
   "execution_count": 14,
   "id": "a6084448-97ae-4ed7-a5c0-2dea90973f7d",
   "metadata": {},
   "outputs": [
    {
     "data": {
      "text/plain": [
       "['What are the keys to building a career in AI?',\n",
       " 'How can teamwork contribute to success in AI?',\n",
       " 'What is the importance of networking in AI?',\n",
       " 'What are some good habits to develop for a successful career?',\n",
       " 'How can altruism be beneficial in building a career?',\n",
       " 'What is imposter syndrome and how does it relate to AI?',\n",
       " 'Who are some accomplished individuals who have experienced imposter syndrome?',\n",
       " 'What is the first step to becoming good at AI?',\n",
       " 'What are some common challenges in AI?',\n",
       " 'Is it normal to find parts of AI challenging?',\n",
       " 'What is the right AI job for me?']"
      ]
     },
     "execution_count": 14,
     "metadata": {},
     "output_type": "execute_result"
    }
   ],
   "source": [
    "eval_questions"
   ]
  },
  {
   "cell_type": "code",
   "execution_count": 15,
   "id": "64d0a63c-a82f-4247-9619-7f3d7db0dfae",
   "metadata": {},
   "outputs": [
    {
     "name": "stdout",
     "output_type": "stream",
     "text": [
      "🦑 Tru initialized with db url sqlite:///default.sqlite .\n",
      "🛑 Secret keys may be written to the database. See the `database_redact_keys` option of `Tru` to prevent this.\n"
     ]
    }
   ],
   "source": [
    "from trulens_eval import Tru\n",
    "tru = Tru()\n",
    "\n",
    "tru.reset_database()"
   ]
  },
  {
   "cell_type": "code",
   "execution_count": 16,
   "id": "1b9bff97-0fea-4745-9217-eacc7e6f8f4a",
   "metadata": {},
   "outputs": [],
   "source": [
    "from src.utils import get_prebuilt_trulens_recorder\n",
    "\n",
    "tru_recorder = get_prebuilt_trulens_recorder(query_engine,\n",
    "                                             app_id=\"Direct Query Engine\")"
   ]
  },
  {
   "cell_type": "code",
   "execution_count": 17,
   "id": "a40ad300-e67d-43d1-9eb3-1c7ebbd49d17",
   "metadata": {},
   "outputs": [],
   "source": [
    "with tru_recorder as recording:\n",
    "    for question in eval_questions:\n",
    "        response = query_engine.query(question)"
   ]
  },
  {
   "cell_type": "code",
   "execution_count": 18,
   "id": "842c8776-17dc-4fc8-b6bc-12dc31c04b4a",
   "metadata": {},
   "outputs": [],
   "source": [
    "records, feedback = tru.get_records_and_feedback(app_ids=[])"
   ]
  },
  {
   "cell_type": "code",
   "execution_count": 19,
   "id": "cab80ecb-d4c8-4b7b-adfa-b349e7e0a5a0",
   "metadata": {},
   "outputs": [
    {
     "data": {
      "text/html": [
       "<div>\n",
       "<style scoped>\n",
       "    .dataframe tbody tr th:only-of-type {\n",
       "        vertical-align: middle;\n",
       "    }\n",
       "\n",
       "    .dataframe tbody tr th {\n",
       "        vertical-align: top;\n",
       "    }\n",
       "\n",
       "    .dataframe thead th {\n",
       "        text-align: right;\n",
       "    }\n",
       "</style>\n",
       "<table border=\"1\" class=\"dataframe\">\n",
       "  <thead>\n",
       "    <tr style=\"text-align: right;\">\n",
       "      <th></th>\n",
       "      <th>app_id</th>\n",
       "      <th>app_json</th>\n",
       "      <th>type</th>\n",
       "      <th>record_id</th>\n",
       "      <th>input</th>\n",
       "      <th>output</th>\n",
       "      <th>tags</th>\n",
       "      <th>record_json</th>\n",
       "      <th>cost_json</th>\n",
       "      <th>perf_json</th>\n",
       "      <th>ts</th>\n",
       "      <th>Answer Relevance</th>\n",
       "      <th>Context Relevance</th>\n",
       "      <th>Groundedness</th>\n",
       "      <th>Answer Relevance_calls</th>\n",
       "      <th>Context Relevance_calls</th>\n",
       "      <th>Groundedness_calls</th>\n",
       "      <th>latency</th>\n",
       "      <th>total_tokens</th>\n",
       "      <th>total_cost</th>\n",
       "    </tr>\n",
       "  </thead>\n",
       "  <tbody>\n",
       "    <tr>\n",
       "      <th>0</th>\n",
       "      <td>Direct Query Engine</td>\n",
       "      <td>{\"tru_class_info\": {\"name\": \"TruLlama\", \"modul...</td>\n",
       "      <td>RetrieverQueryEngine(llama_index.query_engine....</td>\n",
       "      <td>record_hash_61f1a847524cd04ece4cdc67de90d079</td>\n",
       "      <td>\"What are the keys to building a career in AI?\"</td>\n",
       "      <td>\"The keys to building a career in AI are learn...</td>\n",
       "      <td>-</td>\n",
       "      <td>{\"record_id\": \"record_hash_61f1a847524cd04ece4...</td>\n",
       "      <td>{\"n_requests\": 1, \"n_successful_requests\": 1, ...</td>\n",
       "      <td>{\"start_time\": \"2024-01-17T23:08:20.258050\", \"...</td>\n",
       "      <td>2024-01-17T23:08:26.416950</td>\n",
       "      <td>0.9</td>\n",
       "      <td>0.6</td>\n",
       "      <td>1.000</td>\n",
       "      <td>[{'args': {'prompt': 'What are the keys to bui...</td>\n",
       "      <td>[{'args': {'prompt': 'What are the keys to bui...</td>\n",
       "      <td>[{'args': {'source': 'PAGE 1Founder, DeepLearn...</td>\n",
       "      <td>6</td>\n",
       "      <td>2184</td>\n",
       "      <td>0.003360</td>\n",
       "    </tr>\n",
       "    <tr>\n",
       "      <th>1</th>\n",
       "      <td>Direct Query Engine</td>\n",
       "      <td>{\"tru_class_info\": {\"name\": \"TruLlama\", \"modul...</td>\n",
       "      <td>RetrieverQueryEngine(llama_index.query_engine....</td>\n",
       "      <td>record_hash_a8e11c37e3e0547eee60b56a20554d3b</td>\n",
       "      <td>\"How can teamwork contribute to success in AI?\"</td>\n",
       "      <td>\"Collaborating and working in teams is crucial...</td>\n",
       "      <td>-</td>\n",
       "      <td>{\"record_id\": \"record_hash_a8e11c37e3e0547eee6...</td>\n",
       "      <td>{\"n_requests\": 1, \"n_successful_requests\": 1, ...</td>\n",
       "      <td>{\"start_time\": \"2024-01-17T23:08:26.755657\", \"...</td>\n",
       "      <td>2024-01-17T23:08:29.360719</td>\n",
       "      <td>0.9</td>\n",
       "      <td>0.0</td>\n",
       "      <td>1.000</td>\n",
       "      <td>[{'args': {'prompt': 'How can teamwork contrib...</td>\n",
       "      <td>[{'args': {'prompt': 'How can teamwork contrib...</td>\n",
       "      <td>[{'args': {'source': 'Hopefully the previous c...</td>\n",
       "      <td>2</td>\n",
       "      <td>1712</td>\n",
       "      <td>0.002612</td>\n",
       "    </tr>\n",
       "    <tr>\n",
       "      <th>2</th>\n",
       "      <td>Direct Query Engine</td>\n",
       "      <td>{\"tru_class_info\": {\"name\": \"TruLlama\", \"modul...</td>\n",
       "      <td>RetrieverQueryEngine(llama_index.query_engine....</td>\n",
       "      <td>record_hash_11d9c1995c9f7024ee080b46d4753a8a</td>\n",
       "      <td>\"What is the importance of networking in AI?\"</td>\n",
       "      <td>\"Networking is important in AI because it allo...</td>\n",
       "      <td>-</td>\n",
       "      <td>{\"record_id\": \"record_hash_11d9c1995c9f7024ee0...</td>\n",
       "      <td>{\"n_requests\": 1, \"n_successful_requests\": 1, ...</td>\n",
       "      <td>{\"start_time\": \"2024-01-17T23:08:29.654651\", \"...</td>\n",
       "      <td>2024-01-17T23:08:33.913555</td>\n",
       "      <td>0.9</td>\n",
       "      <td>0.1</td>\n",
       "      <td>0.250</td>\n",
       "      <td>[{'args': {'prompt': 'What is the importance o...</td>\n",
       "      <td>[{'args': {'prompt': 'What is the importance o...</td>\n",
       "      <td>[{'args': {'source': 'Hopefully the previous c...</td>\n",
       "      <td>4</td>\n",
       "      <td>1706</td>\n",
       "      <td>0.002599</td>\n",
       "    </tr>\n",
       "    <tr>\n",
       "      <th>3</th>\n",
       "      <td>Direct Query Engine</td>\n",
       "      <td>{\"tru_class_info\": {\"name\": \"TruLlama\", \"modul...</td>\n",
       "      <td>RetrieverQueryEngine(llama_index.query_engine....</td>\n",
       "      <td>record_hash_612c1b1e07bb49582bc4eee9252a7dee</td>\n",
       "      <td>\"What are some good habits to develop for a su...</td>\n",
       "      <td>\"Developing good habits is crucial for a succe...</td>\n",
       "      <td>-</td>\n",
       "      <td>{\"record_id\": \"record_hash_612c1b1e07bb49582bc...</td>\n",
       "      <td>{\"n_requests\": 1, \"n_successful_requests\": 1, ...</td>\n",
       "      <td>{\"start_time\": \"2024-01-17T23:08:34.289604\", \"...</td>\n",
       "      <td>2024-01-17T23:08:38.542962</td>\n",
       "      <td>1.0</td>\n",
       "      <td>0.6</td>\n",
       "      <td>1.000</td>\n",
       "      <td>[{'args': {'prompt': 'What are some good habit...</td>\n",
       "      <td>[{'args': {'prompt': 'What are some good habit...</td>\n",
       "      <td>[{'args': {'source': 'Hopefully the previous c...</td>\n",
       "      <td>4</td>\n",
       "      <td>1680</td>\n",
       "      <td>0.002563</td>\n",
       "    </tr>\n",
       "    <tr>\n",
       "      <th>4</th>\n",
       "      <td>Direct Query Engine</td>\n",
       "      <td>{\"tru_class_info\": {\"name\": \"TruLlama\", \"modul...</td>\n",
       "      <td>RetrieverQueryEngine(llama_index.query_engine....</td>\n",
       "      <td>record_hash_5f90448b2d3e8211927858394fb4c123</td>\n",
       "      <td>\"How can altruism be beneficial in building a ...</td>\n",
       "      <td>\"Altruism can be beneficial in building a care...</td>\n",
       "      <td>-</td>\n",
       "      <td>{\"record_id\": \"record_hash_5f90448b2d3e8211927...</td>\n",
       "      <td>{\"n_requests\": 1, \"n_successful_requests\": 1, ...</td>\n",
       "      <td>{\"start_time\": \"2024-01-17T23:08:38.866722\", \"...</td>\n",
       "      <td>2024-01-17T23:08:42.591028</td>\n",
       "      <td>0.9</td>\n",
       "      <td>0.3</td>\n",
       "      <td>0.625</td>\n",
       "      <td>[{'args': {'prompt': 'How can altruism be bene...</td>\n",
       "      <td>[{'args': {'prompt': 'How can altruism be bene...</td>\n",
       "      <td>[{'args': {'source': 'Hopefully the previous c...</td>\n",
       "      <td>3</td>\n",
       "      <td>1669</td>\n",
       "      <td>0.002541</td>\n",
       "    </tr>\n",
       "  </tbody>\n",
       "</table>\n",
       "</div>"
      ],
      "text/plain": [
       "                app_id                                           app_json  \\\n",
       "0  Direct Query Engine  {\"tru_class_info\": {\"name\": \"TruLlama\", \"modul...   \n",
       "1  Direct Query Engine  {\"tru_class_info\": {\"name\": \"TruLlama\", \"modul...   \n",
       "2  Direct Query Engine  {\"tru_class_info\": {\"name\": \"TruLlama\", \"modul...   \n",
       "3  Direct Query Engine  {\"tru_class_info\": {\"name\": \"TruLlama\", \"modul...   \n",
       "4  Direct Query Engine  {\"tru_class_info\": {\"name\": \"TruLlama\", \"modul...   \n",
       "\n",
       "                                                type  \\\n",
       "0  RetrieverQueryEngine(llama_index.query_engine....   \n",
       "1  RetrieverQueryEngine(llama_index.query_engine....   \n",
       "2  RetrieverQueryEngine(llama_index.query_engine....   \n",
       "3  RetrieverQueryEngine(llama_index.query_engine....   \n",
       "4  RetrieverQueryEngine(llama_index.query_engine....   \n",
       "\n",
       "                                      record_id  \\\n",
       "0  record_hash_61f1a847524cd04ece4cdc67de90d079   \n",
       "1  record_hash_a8e11c37e3e0547eee60b56a20554d3b   \n",
       "2  record_hash_11d9c1995c9f7024ee080b46d4753a8a   \n",
       "3  record_hash_612c1b1e07bb49582bc4eee9252a7dee   \n",
       "4  record_hash_5f90448b2d3e8211927858394fb4c123   \n",
       "\n",
       "                                               input  \\\n",
       "0    \"What are the keys to building a career in AI?\"   \n",
       "1    \"How can teamwork contribute to success in AI?\"   \n",
       "2      \"What is the importance of networking in AI?\"   \n",
       "3  \"What are some good habits to develop for a su...   \n",
       "4  \"How can altruism be beneficial in building a ...   \n",
       "\n",
       "                                              output tags  \\\n",
       "0  \"The keys to building a career in AI are learn...    -   \n",
       "1  \"Collaborating and working in teams is crucial...    -   \n",
       "2  \"Networking is important in AI because it allo...    -   \n",
       "3  \"Developing good habits is crucial for a succe...    -   \n",
       "4  \"Altruism can be beneficial in building a care...    -   \n",
       "\n",
       "                                         record_json  \\\n",
       "0  {\"record_id\": \"record_hash_61f1a847524cd04ece4...   \n",
       "1  {\"record_id\": \"record_hash_a8e11c37e3e0547eee6...   \n",
       "2  {\"record_id\": \"record_hash_11d9c1995c9f7024ee0...   \n",
       "3  {\"record_id\": \"record_hash_612c1b1e07bb49582bc...   \n",
       "4  {\"record_id\": \"record_hash_5f90448b2d3e8211927...   \n",
       "\n",
       "                                           cost_json  \\\n",
       "0  {\"n_requests\": 1, \"n_successful_requests\": 1, ...   \n",
       "1  {\"n_requests\": 1, \"n_successful_requests\": 1, ...   \n",
       "2  {\"n_requests\": 1, \"n_successful_requests\": 1, ...   \n",
       "3  {\"n_requests\": 1, \"n_successful_requests\": 1, ...   \n",
       "4  {\"n_requests\": 1, \"n_successful_requests\": 1, ...   \n",
       "\n",
       "                                           perf_json  \\\n",
       "0  {\"start_time\": \"2024-01-17T23:08:20.258050\", \"...   \n",
       "1  {\"start_time\": \"2024-01-17T23:08:26.755657\", \"...   \n",
       "2  {\"start_time\": \"2024-01-17T23:08:29.654651\", \"...   \n",
       "3  {\"start_time\": \"2024-01-17T23:08:34.289604\", \"...   \n",
       "4  {\"start_time\": \"2024-01-17T23:08:38.866722\", \"...   \n",
       "\n",
       "                           ts  Answer Relevance  Context Relevance  \\\n",
       "0  2024-01-17T23:08:26.416950               0.9                0.6   \n",
       "1  2024-01-17T23:08:29.360719               0.9                0.0   \n",
       "2  2024-01-17T23:08:33.913555               0.9                0.1   \n",
       "3  2024-01-17T23:08:38.542962               1.0                0.6   \n",
       "4  2024-01-17T23:08:42.591028               0.9                0.3   \n",
       "\n",
       "   Groundedness                             Answer Relevance_calls  \\\n",
       "0         1.000  [{'args': {'prompt': 'What are the keys to bui...   \n",
       "1         1.000  [{'args': {'prompt': 'How can teamwork contrib...   \n",
       "2         0.250  [{'args': {'prompt': 'What is the importance o...   \n",
       "3         1.000  [{'args': {'prompt': 'What are some good habit...   \n",
       "4         0.625  [{'args': {'prompt': 'How can altruism be bene...   \n",
       "\n",
       "                             Context Relevance_calls  \\\n",
       "0  [{'args': {'prompt': 'What are the keys to bui...   \n",
       "1  [{'args': {'prompt': 'How can teamwork contrib...   \n",
       "2  [{'args': {'prompt': 'What is the importance o...   \n",
       "3  [{'args': {'prompt': 'What are some good habit...   \n",
       "4  [{'args': {'prompt': 'How can altruism be bene...   \n",
       "\n",
       "                                  Groundedness_calls  latency  total_tokens  \\\n",
       "0  [{'args': {'source': 'PAGE 1Founder, DeepLearn...        6          2184   \n",
       "1  [{'args': {'source': 'Hopefully the previous c...        2          1712   \n",
       "2  [{'args': {'source': 'Hopefully the previous c...        4          1706   \n",
       "3  [{'args': {'source': 'Hopefully the previous c...        4          1680   \n",
       "4  [{'args': {'source': 'Hopefully the previous c...        3          1669   \n",
       "\n",
       "   total_cost  \n",
       "0    0.003360  \n",
       "1    0.002612  \n",
       "2    0.002599  \n",
       "3    0.002563  \n",
       "4    0.002541  "
      ]
     },
     "execution_count": 19,
     "metadata": {},
     "output_type": "execute_result"
    }
   ],
   "source": [
    "records.head()"
   ]
  },
  {
   "cell_type": "code",
   "execution_count": 20,
   "id": "c6e0cf86-b0a7-402b-a672-1d1242e4d677",
   "metadata": {},
   "outputs": [
    {
     "data": {
      "text/plain": [
       "['Groundedness', 'Context Relevance', 'Answer Relevance']"
      ]
     },
     "execution_count": 20,
     "metadata": {},
     "output_type": "execute_result"
    }
   ],
   "source": [
    "feedback"
   ]
  },
  {
   "cell_type": "code",
   "execution_count": 21,
   "id": "f9d9ff66-12f6-4a37-83e0-2cb8c92c40f7",
   "metadata": {},
   "outputs": [
    {
     "name": "stdout",
     "output_type": "stream",
     "text": [
      "Starting dashboard ...\n",
      "Config file already exists. Skipping writing process.\n",
      "Credentials file already exists. Skipping writing process.\n"
     ]
    },
    {
     "name": "stderr",
     "output_type": "stream",
     "text": [
      "huggingface/tokenizers: The current process just got forked, after parallelism has already been used. Disabling parallelism to avoid deadlocks...\n",
      "To disable this warning, you can either:\n",
      "\t- Avoid using `tokenizers` before the fork if possible\n",
      "\t- Explicitly set the environment variable TOKENIZERS_PARALLELISM=(true | false)\n"
     ]
    },
    {
     "data": {
      "application/vnd.jupyter.widget-view+json": {
       "model_id": "4b4ae0da05064ab9b0fc7fa7b1dd1703",
       "version_major": 2,
       "version_minor": 0
      },
      "text/plain": [
       "Accordion(children=(VBox(children=(VBox(children=(Label(value='STDOUT'), Output())), VBox(children=(Label(valu…"
      ]
     },
     "metadata": {},
     "output_type": "display_data"
    },
    {
     "name": "stdout",
     "output_type": "stream",
     "text": [
      "Dashboard started at http://192.168.29.48:8501 .\n"
     ]
    },
    {
     "data": {
      "text/plain": [
       "<Popen: returncode: None args: ['streamlit', 'run', '--server.headless=True'...>"
      ]
     },
     "execution_count": 21,
     "metadata": {},
     "output_type": "execute_result"
    }
   ],
   "source": [
    "# launches on http://localhost:8501/\n",
    "tru.run_dashboard()"
   ]
  },
  {
   "cell_type": "code",
   "execution_count": 22,
   "id": "16b3bba1-df46-4921-b05c-03e5fb05d6b5",
   "metadata": {},
   "outputs": [],
   "source": [
    "# Advanced RAG pipeline"
   ]
  },
  {
   "cell_type": "code",
   "execution_count": 23,
   "id": "d593ffe3-0471-4188-a380-4958fd0d647a",
   "metadata": {},
   "outputs": [],
   "source": [
    "## 2 Sentence Window retrieval"
   ]
  },
  {
   "cell_type": "code",
   "execution_count": 24,
   "id": "904b4116-b800-4199-835b-c786664d20d1",
   "metadata": {},
   "outputs": [],
   "source": [
    "from llama_index.llms import OpenAI\n",
    "\n",
    "llm = OpenAI(model=\"gpt-3.5-turbo\", temperature=0.1)"
   ]
  },
  {
   "cell_type": "code",
   "execution_count": 25,
   "id": "4492c3e3-0a84-4bf6-b501-c5bc8f6b9c50",
   "metadata": {},
   "outputs": [],
   "source": [
    "from src.utils import build_sentence_window_index\n",
    "\n",
    "sentence_index = build_sentence_window_index(\n",
    "    document,\n",
    "    llm,\n",
    "    embed_model=\"local:BAAI/bge-small-en-v1.5\",\n",
    "    save_dir=\"sentence_index\"\n",
    ")"
   ]
  },
  {
   "cell_type": "code",
   "execution_count": 26,
   "id": "94a68d24-8951-42d7-8103-e3afc1d31d87",
   "metadata": {},
   "outputs": [],
   "source": [
    "from src.utils import get_sentence_window_query_engine\n",
    "\n",
    "sentence_window_engine = get_sentence_window_query_engine(sentence_index)"
   ]
  },
  {
   "cell_type": "code",
   "execution_count": 27,
   "id": "f9f4496b-f054-494b-aa36-be44229d668e",
   "metadata": {},
   "outputs": [
    {
     "name": "stdout",
     "output_type": "stream",
     "text": [
      "To get started on a personal project in AI, it is important to first identify and scope the project. Consider your career goals and choose a project that complements them. Ensure that the project is responsible, ethical, and beneficial to people. As you progress in your career, aim for projects that grow in scope, complexity, and impact over time. Building a portfolio of projects that shows skill progression can also be helpful. Additionally, there are resources available in the book that provide guidance on starting your AI job search and finding the right AI job for you.\n"
     ]
    }
   ],
   "source": [
    "window_response = sentence_window_engine.query(\n",
    "    \"how do I get started on a personal project in AI?\"\n",
    ")\n",
    "print(str(window_response))"
   ]
  },
  {
   "cell_type": "code",
   "execution_count": 28,
   "id": "56ba3b0c-4340-44d3-ac5f-afdc7de3025b",
   "metadata": {},
   "outputs": [],
   "source": [
    "# tru.reset_database()\n",
    "\n",
    "tru_recorder_sentence_window = get_prebuilt_trulens_recorder(\n",
    "    sentence_window_engine,\n",
    "    app_id = \"Sentence Window Query Engine\"\n",
    ")"
   ]
  },
  {
   "cell_type": "code",
   "execution_count": 29,
   "id": "be06c5d7-d425-452d-a2f0-7f191114c3fd",
   "metadata": {},
   "outputs": [],
   "source": [
    "for question in eval_questions:\n",
    "    with tru_recorder_sentence_window as recording:\n",
    "        response = sentence_window_engine.query(question)"
   ]
  },
  {
   "cell_type": "code",
   "execution_count": 30,
   "id": "8fe1cd7f-00d0-4980-9d2d-70d7a248d81c",
   "metadata": {},
   "outputs": [
    {
     "data": {
      "text/html": [
       "<div>\n",
       "<style scoped>\n",
       "    .dataframe tbody tr th:only-of-type {\n",
       "        vertical-align: middle;\n",
       "    }\n",
       "\n",
       "    .dataframe tbody tr th {\n",
       "        vertical-align: top;\n",
       "    }\n",
       "\n",
       "    .dataframe thead th {\n",
       "        text-align: right;\n",
       "    }\n",
       "</style>\n",
       "<table border=\"1\" class=\"dataframe\">\n",
       "  <thead>\n",
       "    <tr style=\"text-align: right;\">\n",
       "      <th></th>\n",
       "      <th>Groundedness</th>\n",
       "      <th>Context Relevance</th>\n",
       "      <th>Answer Relevance</th>\n",
       "      <th>latency</th>\n",
       "      <th>total_cost</th>\n",
       "    </tr>\n",
       "    <tr>\n",
       "      <th>app_id</th>\n",
       "      <th></th>\n",
       "      <th></th>\n",
       "      <th></th>\n",
       "      <th></th>\n",
       "      <th></th>\n",
       "    </tr>\n",
       "  </thead>\n",
       "  <tbody>\n",
       "    <tr>\n",
       "      <th>Sentence Window Query Engine</th>\n",
       "      <td>0.767857</td>\n",
       "      <td>0.350000</td>\n",
       "      <td>0.888889</td>\n",
       "      <td>3.272727</td>\n",
       "      <td>0.000850</td>\n",
       "    </tr>\n",
       "    <tr>\n",
       "      <th>Direct Query Engine</th>\n",
       "      <td>0.715606</td>\n",
       "      <td>0.263636</td>\n",
       "      <td>0.900000</td>\n",
       "      <td>3.272727</td>\n",
       "      <td>0.003059</td>\n",
       "    </tr>\n",
       "  </tbody>\n",
       "</table>\n",
       "</div>"
      ],
      "text/plain": [
       "                              Groundedness  Context Relevance  \\\n",
       "app_id                                                          \n",
       "Sentence Window Query Engine      0.767857           0.350000   \n",
       "Direct Query Engine               0.715606           0.263636   \n",
       "\n",
       "                              Answer Relevance   latency  total_cost  \n",
       "app_id                                                                \n",
       "Sentence Window Query Engine          0.888889  3.272727    0.000850  \n",
       "Direct Query Engine                   0.900000  3.272727    0.003059  "
      ]
     },
     "execution_count": 30,
     "metadata": {},
     "output_type": "execute_result"
    }
   ],
   "source": [
    "tru.get_leaderboard(app_ids=[\"Direct Query Engine\" , \"Sentence Window Query Engine\"])"
   ]
  },
  {
   "cell_type": "code",
   "execution_count": 31,
   "id": "6c3ec776-6fc9-4fe7-8221-758510a3a352",
   "metadata": {},
   "outputs": [
    {
     "name": "stdout",
     "output_type": "stream",
     "text": [
      "Starting dashboard ...\n",
      "Config file already exists. Skipping writing process.\n",
      "Credentials file already exists. Skipping writing process.\n",
      "Dashboard already running at path:   Network URL: http://192.168.29.48:8501\n",
      "\n"
     ]
    },
    {
     "data": {
      "text/plain": [
       "<Popen: returncode: None args: ['streamlit', 'run', '--server.headless=True'...>"
      ]
     },
     "execution_count": 31,
     "metadata": {},
     "output_type": "execute_result"
    }
   ],
   "source": [
    "# launches on http://localhost:8501/\n",
    "tru.run_dashboard()"
   ]
  },
  {
   "cell_type": "code",
   "execution_count": 32,
   "id": "499ccd61-bea8-4178-9609-6842f3bdbaf6",
   "metadata": {},
   "outputs": [],
   "source": [
    "# Auto Merging retrieval"
   ]
  },
  {
   "cell_type": "code",
   "execution_count": 33,
   "id": "f306d7d0-dc8c-4c8c-b9be-e95e0ff0c78a",
   "metadata": {},
   "outputs": [],
   "source": [
    "from src.utils import build_automerging_index\n",
    "\n",
    "automerging_index = build_automerging_index(\n",
    "    documents,\n",
    "    llm,\n",
    "    embed_model=\"local:BAAI/bge-small-en-v1.5\",\n",
    "    save_dir=\"merging_index\"\n",
    ")"
   ]
  },
  {
   "cell_type": "code",
   "execution_count": 34,
   "id": "a62a4796-6021-43c7-9b89-49ff013ef6e6",
   "metadata": {},
   "outputs": [],
   "source": [
    "from src.utils import get_automerging_query_engine\n",
    "\n",
    "automerging_query_engine = get_automerging_query_engine(\n",
    "    automerging_index,\n",
    ")"
   ]
  },
  {
   "cell_type": "code",
   "execution_count": 35,
   "id": "cf548679-1952-4611-ad72-e117dc094f5c",
   "metadata": {},
   "outputs": [
    {
     "name": "stdout",
     "output_type": "stream",
     "text": [
      "> Merging 1 nodes into parent node.\n",
      "> Parent node id: ce3c2ac8-3dfd-41f2-9920-a2a5bd2ef73d.\n",
      "> Parent node text: PAGE 21Building a Portfolio of \n",
      "Projects that Shows \n",
      "Skill Progression CHAPTER 6\n",
      "PROJECTS\n",
      "\n",
      "> Merging 1 nodes into parent node.\n",
      "> Parent node id: 272eacd0-f132-430d-aae5-1c2af917e65f.\n",
      "> Parent node text: PAGE 21Building a Portfolio of \n",
      "Projects that Shows \n",
      "Skill Progression CHAPTER 6\n",
      "PROJECTS\n",
      "\n",
      "To build a portfolio of AI projects, it is important to start with simple undertakings and gradually progress to more complex ones. This progression will demonstrate your growth and development over time. Additionally, effective communication is crucial. You should be able to explain your thinking and articulate the value of your work to others. This will help build trust and increase your chances of securing resources for larger projects.\n"
     ]
    }
   ],
   "source": [
    "auto_merging_response = automerging_query_engine.query(\n",
    "    \"How do I build a portfolio of AI projects?\"\n",
    ")\n",
    "print(str(auto_merging_response))"
   ]
  },
  {
   "cell_type": "code",
   "execution_count": 36,
   "id": "03c9463f-bd9c-419d-836a-b14cfa3a0809",
   "metadata": {},
   "outputs": [],
   "source": [
    "# tru.reset_database()\n",
    "\n",
    "tru_recorder_automerging = get_prebuilt_trulens_recorder(automerging_query_engine,\n",
    "                                                         app_id=\"Automerging Query Engine\")"
   ]
  },
  {
   "cell_type": "code",
   "execution_count": 37,
   "id": "b13d925a-ac89-4cc9-a93b-035bd1bd6a75",
   "metadata": {},
   "outputs": [
    {
     "name": "stdout",
     "output_type": "stream",
     "text": [
      "> Merging 2 nodes into parent node.\n",
      "> Parent node id: cf233675-66c2-4632-8f97-b83c15c4af43.\n",
      "> Parent node text: PAGE 3Table of \n",
      "ContentsIntroduction: Coding AI is the New Literacy.\n",
      "Chapter 1: Three Steps to Ca...\n",
      "\n",
      "> Merging 1 nodes into parent node.\n",
      "> Parent node id: 0809d528-2341-4993-ba89-194a76fb9205.\n",
      "> Parent node text: PAGE 3Table of \n",
      "ContentsIntroduction: Coding AI is the New Literacy.\n",
      "Chapter 1: Three Steps to Ca...\n",
      "\n",
      "> Merging 3 nodes into parent node.\n",
      "> Parent node id: 5d9391e5-4318-4f1c-ab63-c93cdd6d6cc2.\n",
      "> Parent node text: PAGE 35Keys to Building a Career in AI CHAPTER 10\n",
      "The path to career success in AI is more comple...\n",
      "\n",
      "> Merging 1 nodes into parent node.\n",
      "> Parent node id: e265ad3f-8375-4e1d-9b20-d336c529ad81.\n",
      "> Parent node text: PAGE 35Keys to Building a Career in AI CHAPTER 10\n",
      "The path to career success in AI is more comple...\n",
      "\n",
      "> Merging 2 nodes into parent node.\n",
      "> Parent node id: aca7b454-1797-4837-8163-35fbe1006f00.\n",
      "> Parent node text: PAGE 36Keys to Building a Career in AI CHAPTER 10\n",
      "Of all the steps in building a career, this \n",
      "on...\n",
      "\n",
      "> Merging 2 nodes into parent node.\n",
      "> Parent node id: 7a4f671f-e6f2-4dd6-9134-d6115872dcd0.\n",
      "> Parent node text: PAGE 11\n",
      "The Best Way to Build \n",
      "a New Habit\n",
      "One of my favorite books is BJ Fogg’s, Tiny Habits: Th...\n",
      "\n",
      "> Merging 1 nodes into parent node.\n",
      "> Parent node id: 608af7d0-d4fe-48a7-b6cd-f8de92b0e64f.\n",
      "> Parent node text: PAGE 36Keys to Building a Career in AI CHAPTER 10\n",
      "Of all the steps in building a career, this \n",
      "on...\n",
      "\n",
      "> Merging 1 nodes into parent node.\n",
      "> Parent node id: 6fd3ef67-9944-41ad-923d-0ac901cec0f0.\n",
      "> Parent node text: PAGE 11\n",
      "The Best Way to Build \n",
      "a New Habit\n",
      "One of my favorite books is BJ Fogg’s, Tiny Habits: Th...\n",
      "\n",
      "> Merging 5 nodes into parent node.\n",
      "> Parent node id: dc17751f-0e75-4c94-a65a-9b7240e449cf.\n",
      "> Parent node text: PAGE 38Before we dive into the final chapter of this book, I’d like to address the serious matter...\n",
      "\n",
      "> Merging 1 nodes into parent node.\n",
      "> Parent node id: fde375c4-3966-48da-91c1-7335926492e2.\n",
      "> Parent node text: PAGE 37Overcoming Imposter \n",
      "SyndromeCHAPTER 11\n",
      "\n",
      "> Merging 3 nodes into parent node.\n",
      "> Parent node id: ec898988-3fa3-452d-abd7-703ba275eef5.\n",
      "> Parent node text: PAGE 39My three-year-old daughter (who can barely count to 12) regularly tries to teach things to...\n",
      "\n",
      "> Merging 1 nodes into parent node.\n",
      "> Parent node id: fa1b7157-fb99-4893-bae7-8b2f039594ed.\n",
      "> Parent node text: PAGE 38Before we dive into the final chapter of this book, I’d like to address the serious matter...\n",
      "\n",
      "> Merging 1 nodes into parent node.\n",
      "> Parent node id: 644c00b5-f2f1-4320-a37a-f5248b62df99.\n",
      "> Parent node text: PAGE 37Overcoming Imposter \n",
      "SyndromeCHAPTER 11\n",
      "\n",
      "> Merging 1 nodes into parent node.\n",
      "> Parent node id: 45fd925d-2787-4eb0-aba2-cc31a3165726.\n",
      "> Parent node text: PAGE 39My three-year-old daughter (who can barely count to 12) regularly tries to teach things to...\n",
      "\n",
      "> Merging 3 nodes into parent node.\n",
      "> Parent node id: dc17751f-0e75-4c94-a65a-9b7240e449cf.\n",
      "> Parent node text: PAGE 38Before we dive into the final chapter of this book, I’d like to address the serious matter...\n",
      "\n",
      "> Merging 1 nodes into parent node.\n",
      "> Parent node id: fde375c4-3966-48da-91c1-7335926492e2.\n",
      "> Parent node text: PAGE 37Overcoming Imposter \n",
      "SyndromeCHAPTER 11\n",
      "\n",
      "> Merging 3 nodes into parent node.\n",
      "> Parent node id: ec898988-3fa3-452d-abd7-703ba275eef5.\n",
      "> Parent node text: PAGE 39My three-year-old daughter (who can barely count to 12) regularly tries to teach things to...\n",
      "\n",
      "> Merging 1 nodes into parent node.\n",
      "> Parent node id: fa1b7157-fb99-4893-bae7-8b2f039594ed.\n",
      "> Parent node text: PAGE 38Before we dive into the final chapter of this book, I’d like to address the serious matter...\n",
      "\n",
      "> Merging 1 nodes into parent node.\n",
      "> Parent node id: 644c00b5-f2f1-4320-a37a-f5248b62df99.\n",
      "> Parent node text: PAGE 37Overcoming Imposter \n",
      "SyndromeCHAPTER 11\n",
      "\n",
      "> Merging 1 nodes into parent node.\n",
      "> Parent node id: 45fd925d-2787-4eb0-aba2-cc31a3165726.\n",
      "> Parent node text: PAGE 39My three-year-old daughter (who can barely count to 12) regularly tries to teach things to...\n",
      "\n",
      "> Merging 3 nodes into parent node.\n",
      "> Parent node id: dc17751f-0e75-4c94-a65a-9b7240e449cf.\n",
      "> Parent node text: PAGE 38Before we dive into the final chapter of this book, I’d like to address the serious matter...\n",
      "\n",
      "> Merging 1 nodes into parent node.\n",
      "> Parent node id: fa1b7157-fb99-4893-bae7-8b2f039594ed.\n",
      "> Parent node text: PAGE 38Before we dive into the final chapter of this book, I’d like to address the serious matter...\n",
      "\n",
      "> Merging 1 nodes into parent node.\n",
      "> Parent node id: c0b1854a-dfed-45ce-89e2-db387e73a67b.\n",
      "> Parent node text: PAGE 31Finding the Right \n",
      "AI Job for YouCHAPTER 9\n",
      "JOBS\n",
      "\n",
      "> Merging 1 nodes into parent node.\n",
      "> Parent node id: 0daae2f7-9769-48ea-9cb7-816e178eaf5b.\n",
      "> Parent node text: If you’re leaving \n",
      "a job, exit gracefully. Give your employer ample notice, give your full effort...\n",
      "\n",
      "> Merging 1 nodes into parent node.\n",
      "> Parent node id: 25aa1b1d-2264-4b24-81a9-af8b595e3559.\n",
      "> Parent node text: PAGE 31Finding the Right \n",
      "AI Job for YouCHAPTER 9\n",
      "JOBS\n",
      "\n"
     ]
    }
   ],
   "source": [
    "for question in eval_questions:\n",
    "    with tru_recorder_automerging as recording:\n",
    "        response = automerging_query_engine.query(question)"
   ]
  },
  {
   "cell_type": "code",
   "execution_count": 38,
   "id": "2bcbae79-a927-413d-b12b-b60f3c581967",
   "metadata": {},
   "outputs": [
    {
     "data": {
      "text/html": [
       "<div>\n",
       "<style scoped>\n",
       "    .dataframe tbody tr th:only-of-type {\n",
       "        vertical-align: middle;\n",
       "    }\n",
       "\n",
       "    .dataframe tbody tr th {\n",
       "        vertical-align: top;\n",
       "    }\n",
       "\n",
       "    .dataframe thead th {\n",
       "        text-align: right;\n",
       "    }\n",
       "</style>\n",
       "<table border=\"1\" class=\"dataframe\">\n",
       "  <thead>\n",
       "    <tr style=\"text-align: right;\">\n",
       "      <th></th>\n",
       "      <th>Groundedness</th>\n",
       "      <th>Context Relevance</th>\n",
       "      <th>Answer Relevance</th>\n",
       "      <th>latency</th>\n",
       "      <th>total_cost</th>\n",
       "    </tr>\n",
       "    <tr>\n",
       "      <th>app_id</th>\n",
       "      <th></th>\n",
       "      <th></th>\n",
       "      <th></th>\n",
       "      <th></th>\n",
       "      <th></th>\n",
       "    </tr>\n",
       "  </thead>\n",
       "  <tbody>\n",
       "    <tr>\n",
       "      <th>Automerging Query Engine</th>\n",
       "      <td>0.915</td>\n",
       "      <td>0.591667</td>\n",
       "      <td>0.9</td>\n",
       "      <td>2.363636</td>\n",
       "      <td>0.000842</td>\n",
       "    </tr>\n",
       "  </tbody>\n",
       "</table>\n",
       "</div>"
      ],
      "text/plain": [
       "                          Groundedness  Context Relevance  Answer Relevance  \\\n",
       "app_id                                                                        \n",
       "Automerging Query Engine         0.915           0.591667               0.9   \n",
       "\n",
       "                           latency  total_cost  \n",
       "app_id                                          \n",
       "Automerging Query Engine  2.363636    0.000842  "
      ]
     },
     "execution_count": 38,
     "metadata": {},
     "output_type": "execute_result"
    }
   ],
   "source": [
    "tru.get_leaderboard(app_ids=[\"Automerging Query Engine\"])"
   ]
  },
  {
   "cell_type": "code",
   "execution_count": 39,
   "id": "a7632a1d-3ce9-49d1-9798-5c42f69ff431",
   "metadata": {},
   "outputs": [
    {
     "name": "stdout",
     "output_type": "stream",
     "text": [
      "Starting dashboard ...\n",
      "Config file already exists. Skipping writing process.\n",
      "Credentials file already exists. Skipping writing process.\n",
      "Dashboard already running at path:   Network URL: http://192.168.29.48:8501\n",
      "\n"
     ]
    },
    {
     "data": {
      "text/plain": [
       "<Popen: returncode: None args: ['streamlit', 'run', '--server.headless=True'...>"
      ]
     },
     "execution_count": 39,
     "metadata": {},
     "output_type": "execute_result"
    }
   ],
   "source": [
    "# launches on http://localhost:8501/\n",
    "tru.run_dashboard()"
   ]
  },
  {
   "cell_type": "code",
   "execution_count": null,
   "id": "ac209c56-c1a2-406a-9341-928c9862965f",
   "metadata": {},
   "outputs": [],
   "source": []
  },
  {
   "cell_type": "code",
   "execution_count": null,
   "id": "6dd20f51-1b50-4c74-a6fc-0155b88eb1b3",
   "metadata": {},
   "outputs": [],
   "source": []
  },
  {
   "cell_type": "code",
   "execution_count": null,
   "id": "468eabe8-8446-4a60-854f-64231c4d7f16",
   "metadata": {},
   "outputs": [],
   "source": []
  },
  {
   "cell_type": "code",
   "execution_count": null,
   "id": "cee1775d-4ab8-4314-a125-7c0b978d29bb",
   "metadata": {},
   "outputs": [],
   "source": []
  },
  {
   "cell_type": "code",
   "execution_count": null,
   "id": "bfdcf7b4-a606-4974-b680-5311a771e510",
   "metadata": {},
   "outputs": [],
   "source": []
  },
  {
   "cell_type": "code",
   "execution_count": null,
   "id": "7fd342e6-4298-4e87-baca-07e10b781575",
   "metadata": {},
   "outputs": [],
   "source": []
  },
  {
   "cell_type": "code",
   "execution_count": null,
   "id": "3470f54c-53c8-4cf7-bc5f-5198014655aa",
   "metadata": {},
   "outputs": [],
   "source": []
  },
  {
   "cell_type": "code",
   "execution_count": null,
   "id": "e692d0d2-197b-4c74-aa7e-2cc36dace27d",
   "metadata": {},
   "outputs": [],
   "source": []
  },
  {
   "cell_type": "code",
   "execution_count": null,
   "id": "07694fd0-40c2-4406-bac8-479911f71e0f",
   "metadata": {},
   "outputs": [],
   "source": []
  },
  {
   "cell_type": "code",
   "execution_count": null,
   "id": "c5fd50cc-dc9e-4115-85d9-6364542df4eb",
   "metadata": {},
   "outputs": [],
   "source": []
  },
  {
   "cell_type": "code",
   "execution_count": null,
   "id": "d144ae5a-4c65-4bec-8842-ab82b67fe17b",
   "metadata": {},
   "outputs": [],
   "source": []
  },
  {
   "cell_type": "code",
   "execution_count": null,
   "id": "b7625735-9fe8-444b-b64d-9564e7d8b289",
   "metadata": {},
   "outputs": [],
   "source": []
  },
  {
   "cell_type": "code",
   "execution_count": null,
   "id": "92ef0029-ab0a-4c2a-86c8-c59498b663e7",
   "metadata": {},
   "outputs": [],
   "source": []
  },
  {
   "cell_type": "code",
   "execution_count": null,
   "id": "5ae9a28e-c641-44c3-b9ff-0bb96e31dde4",
   "metadata": {},
   "outputs": [],
   "source": []
  },
  {
   "cell_type": "code",
   "execution_count": null,
   "id": "49d6005a-cf3a-415f-8b90-8974c8a1f938",
   "metadata": {},
   "outputs": [],
   "source": []
  }
 ],
 "metadata": {
  "kernelspec": {
   "display_name": "Python 3 (ipykernel)",
   "language": "python",
   "name": "python3"
  },
  "language_info": {
   "codemirror_mode": {
    "name": "ipython",
    "version": 3
   },
   "file_extension": ".py",
   "mimetype": "text/x-python",
   "name": "python",
   "nbconvert_exporter": "python",
   "pygments_lexer": "ipython3",
   "version": "3.10.13"
  }
 },
 "nbformat": 4,
 "nbformat_minor": 5
}
